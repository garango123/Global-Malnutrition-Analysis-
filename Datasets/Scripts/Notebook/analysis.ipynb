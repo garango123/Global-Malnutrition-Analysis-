# Global Malnutrition Analysis

This project analyzes global malnutrition trends using a dataset in CSV format.  
It uses Python (Pandas, Matplotlib, Seaborn) and runs in Google Colab.

## Structure
- `datasets/`: raw data
- `scripts/`: data loading script
- `notebook/`: Colab notebook for analysis

## Run in Colab
[Click here to open in Colab](https://colab.research.google.com/github/yourusername/global-malnutrition-analysis/blob/main/notebook/analysis.ipynb)
