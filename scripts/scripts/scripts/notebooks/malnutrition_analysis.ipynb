# 📌 Install missing packages (if needed)
!pip install pandas matplotlib seaborn

# 📁 Mount Google Drive if needed
from google.colab import drive
drive.mount('/content/drive')

# 📌 Change directory to your project folder in Google Drive
%cd /content/drive/MyDrive/global-malnutrition-analysis

# 📥 Load modules
from scripts.data_loader import load_data
from scripts.data_cleaner import clean_data
from scripts.visualizer import plot_malnutrition_by_country

# 📊 Load Dataset
df = load_data("datasets/malnutrition_data.csv")

# 🧹 Clean Dataset
df = clean_data(df)

# 🔍 Inspect data
df.head()

# 📈 Visualize
plot_malnutrition_by_country(df, country_column='Country', value_column='Malnutrition Rate', top_n=10)
